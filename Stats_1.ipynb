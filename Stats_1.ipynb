{
  "nbformat": 4,
  "nbformat_minor": 0,
  "metadata": {
    "colab": {
      "name": "Stats_1.ipynb",
      "provenance": [],
      "authorship_tag": "ABX9TyPs5/bJ84E6ZOQiOtwDbsJC",
      "include_colab_link": true
    },
    "kernelspec": {
      "name": "python3",
      "display_name": "Python 3"
    }
  },
  "cells": [
    {
      "cell_type": "markdown",
      "metadata": {
        "id": "view-in-github",
        "colab_type": "text"
      },
      "source": [
        "<a href=\"https://colab.research.google.com/github/dhruven-god/Ineuron/blob/main/Stats_1.ipynb\" target=\"_parent\"><img src=\"https://colab.research.google.com/assets/colab-badge.svg\" alt=\"Open In Colab\"/></a>"
      ]
    },
    {
      "cell_type": "code",
      "metadata": {
        "id": "L0RF4I2o3m0b"
      },
      "source": [
        "import numpy as np\r\n",
        "from scipy import stats\r\n",
        "import math\r\n",
        "import statistics\r\n",
        "import sys"
      ],
      "execution_count": 100,
      "outputs": []
    },
    {
      "cell_type": "code",
      "metadata": {
        "id": "eJ-RTvuUekQz"
      },
      "source": [
        "marks = np.asarray([6,7,5,7,7,8,7,6,9,7,4,10,6,8,8,9,5,6,4,8])\r\n",
        "\r\n",
        "def stat_calc(marks):\r\n",
        "  \r\n",
        "  print('Mean:',np.mean(marks))\r\n",
        "  print('Median:',np.median(marks))\r\n",
        "  print('Mode:',statistics.mode(marks))\r\n",
        "  print('Standard_Deviation:',np.std(marks))"
      ],
      "execution_count": 101,
      "outputs": []
    },
    {
      "cell_type": "code",
      "metadata": {
        "colab": {
          "base_uri": "https://localhost:8080/"
        },
        "id": "ahJOVe0Me4dS",
        "outputId": "cb6f6a01-3d56-4ad8-ef8a-9d2aa623ab7c"
      },
      "source": [
        "stat_calc(marks)"
      ],
      "execution_count": 102,
      "outputs": [
        {
          "output_type": "stream",
          "text": [
            "Mean: 6.85\n",
            "Median: 7.0\n",
            "Mode: 7\n",
            "Standard_Deviation: 1.5898113095584647\n"
          ],
          "name": "stdout"
        }
      ]
    },
    {
      "cell_type": "code",
      "metadata": {
        "colab": {
          "base_uri": "https://localhost:8080/"
        },
        "id": "dypVEHeLfzTR",
        "outputId": "774c796d-e917-4264-c138-5b9aa55c3cd3"
      },
      "source": [
        "calls = np.asarray([28, 122, 217, 130, 120, 86, 80, 90, 140, 120, 70, 40, 145, 113, 90, 68, 174, 194, 170,100, 75, 104, 97, 75,123, 100, 75, 104, 97, 75, 123, 100, 89, 120, 109])\r\n",
        "\r\n",
        "stat_calc(calls)"
      ],
      "execution_count": 103,
      "outputs": [
        {
          "output_type": "stream",
          "text": [
            "Mean: 107.51428571428572\n",
            "Median: 100.0\n",
            "Mode: 75\n",
            "Standard_Deviation: 38.77287080168403\n"
          ],
          "name": "stdout"
        }
      ]
    },
    {
      "cell_type": "code",
      "metadata": {
        "id": "sktBSjoQgDzZ"
      },
      "source": [
        "x = np.asarray([0, 1, 2, 3, 4, 5])\r\n",
        "fx = np.asarray([0.09, 0.15, 0.40, 0.25, 0.10, 0.01])"
      ],
      "execution_count": 104,
      "outputs": []
    },
    {
      "cell_type": "code",
      "metadata": {
        "colab": {
          "base_uri": "https://localhost:8080/"
        },
        "id": "GAbOhhY7hG8Z",
        "outputId": "3f86b342-1cfb-4ebd-cefe-9583e0ac1201"
      },
      "source": [
        "mean = np.dot(x,fx)\r\n",
        "\r\n",
        "var_x = (x-mean)**2\r\n",
        "\r\n",
        "variance = np.dot(var_x,fx)\r\n",
        "\r\n",
        "print('Mean:',mean)\r\n",
        "print('Variance:',variance)"
      ],
      "execution_count": 105,
      "outputs": [
        {
          "output_type": "stream",
          "text": [
            "Mean: 2.15\n",
            "Variance: 1.2275\n"
          ],
          "name": "stdout"
        }
      ]
    },
    {
      "cell_type": "code",
      "metadata": {
        "colab": {
          "base_uri": "https://localhost:8080/"
        },
        "id": "ICqGK5Ivo_-S",
        "outputId": "271a05ae-3edd-4405-e2e6-eacd4e135366"
      },
      "source": [
        "from scipy import integrate\r\n",
        "\r\n",
        "pdf = lambda d:20*(np.exp((-20*(d-12.5))))\r\n",
        "\r\n",
        "result = np.round(integrate.quad(pdf,12.6,np.inf)[0],decimals=4)\r\n",
        "\r\n",
        "print(\"Proportion of Parts need to scrapped when d >12.6mm is : \",result)"
      ],
      "execution_count": 162,
      "outputs": [
        {
          "output_type": "stream",
          "text": [
            "Proportion of Parts need to scrapped when d >12.6mm is :  0.1353\n"
          ],
          "name": "stdout"
        }
      ]
    },
    {
      "cell_type": "code",
      "metadata": {
        "colab": {
          "base_uri": "https://localhost:8080/"
        },
        "id": "qGszN6fTrkNL",
        "outputId": "bbaf7063-0866-40c2-9f5c-7891fc55e1e9"
      },
      "source": [
        "diameter = 11\r\n",
        "pdf = lambda d:20*(np.exp((-20*(d-12.5))))\r\n",
        "\r\n",
        "print(\"CDF when d=11mm\",integrate.quad(pdf,-np.inf,diameter)[0])\r\n",
        "\r\n",
        "# Diameter when below 12.5mm it is not possible to scrap"
      ],
      "execution_count": 170,
      "outputs": [
        {
          "output_type": "stream",
          "text": [
            "CDF when d=11mm inf\n"
          ],
          "name": "stdout"
        },
        {
          "output_type": "stream",
          "text": [
            "/usr/local/lib/python3.6/dist-packages/ipykernel_launcher.py:2: RuntimeWarning: overflow encountered in exp\n",
            "  \n"
          ],
          "name": "stderr"
        }
      ]
    },
    {
      "cell_type": "code",
      "metadata": {
        "id": "Itm4bHX9ieN5"
      },
      "source": [
        "p = 0.3 # Faulty\r\n",
        "q = 0.7 # Not Faulty\r\n",
        "n = 6 # Out of 6 LEDs\r\n",
        "x = 2 # two faulty LEDs\r\n",
        "size =1000 # Random samples"
      ],
      "execution_count": 106,
      "outputs": []
    },
    {
      "cell_type": "code",
      "metadata": {
        "colab": {
          "base_uri": "https://localhost:8080/"
        },
        "id": "Dg6YyBzznOnt",
        "outputId": "564cec24-7646-4cb8-c378-189c5ff9af8c"
      },
      "source": [
        "from scipy.stats import binom\r\n",
        "\r\n",
        "probab=binom.pmf(x,n,p)\r\n",
        "print(\"Probability :\",probab)"
      ],
      "execution_count": 107,
      "outputs": [
        {
          "output_type": "stream",
          "text": [
            "Probability : 0.32413499999999995\n"
          ],
          "name": "stdout"
        }
      ]
    },
    {
      "cell_type": "code",
      "metadata": {
        "colab": {
          "base_uri": "https://localhost:8080/"
        },
        "id": "dtt4nWp5n5LF",
        "outputId": "6aafd6af-d426-4786-848d-6e8cdf967990"
      },
      "source": [
        "mean,var = binom.stats(n,p)\r\n",
        "print(\"Mean : \",mean)\r\n",
        "print(\"standard_deviation :\",np.sqrt(var))"
      ],
      "execution_count": 108,
      "outputs": [
        {
          "output_type": "stream",
          "text": [
            "Mean :  1.7999999999999998\n",
            "standard_deviation : 1.1224972160321822\n"
          ],
          "name": "stdout"
        }
      ]
    },
    {
      "cell_type": "code",
      "metadata": {
        "colab": {
          "base_uri": "https://localhost:8080/"
        },
        "id": "acwAKogOoPfn",
        "outputId": "6f8bc2a5-63f8-48ca-bdf2-64a666c7b27c"
      },
      "source": [
        "'''\r\n",
        "Gaurav - 8 questions, correction rate(p) = 75%\r\n",
        "Barkha - 12 questions, correction rate(p) = 45%\r\n",
        "\r\n",
        "BOTH ARE INDEPENDENT EVENTS i.e. DO NOT DEPEND ON EACH OTHER !\r\n",
        "\r\n",
        "'''\r\n",
        "from scipy.stats import binom\r\n",
        "import numpy as np\r\n",
        "\r\n",
        "print(\"Probability of each of them solving 5 questions correctly:\",binom.pmf(5,8,0.75)*binom.pmf(5,12,0.45))\r\n",
        "print(\"Probability of each of them solving 4,6 questions correctly:\",binom.pmf(4,8,0.75)*binom.pmf(6,12,0.45))"
      ],
      "execution_count": 109,
      "outputs": [
        {
          "output_type": "stream",
          "text": [
            "Probability of each of them solving 5 questions correctly: 0.04619989057299217\n",
            "Probability of each of them solving 4,6 questions correctly: 0.018374956477894583\n"
          ],
          "name": "stdout"
        }
      ]
    },
    {
      "cell_type": "code",
      "metadata": {
        "id": "rsDKJ9uKyjIW"
      },
      "source": [
        "import matplotlib.pyplot as plt\r\n",
        "def plot_graph(n,p):\r\n",
        "    fig,ax=plt.subplots(1,1)\r\n",
        "    x = np.arange(1,10,1)\r\n",
        "    ax.plot(x, binom.pmf(x, n, p),label='binom pmf')\r\n",
        "    ax.vlines(x, 0, binom.pmf(x, n, p), colors='b', lw=5, alpha=0.5)"
      ],
      "execution_count": 110,
      "outputs": []
    },
    {
      "cell_type": "code",
      "metadata": {
        "colab": {
          "base_uri": "https://localhost:8080/",
          "height": 265
        },
        "id": "q7sh54_9FZ0v",
        "outputId": "b6327832-f2dc-4c12-bca1-5728bdb9d317"
      },
      "source": [
        "plot_graph(8,0.75) # Gaurav"
      ],
      "execution_count": 111,
      "outputs": [
        {
          "output_type": "display_data",
          "data": {
            "image/png": "[encoded data removed]",
            "text/plain": [
              "<Figure size 432x288 with 1 Axes>"
            ]
          },
          "metadata": {
            "tags": [],
            "needs_background": "light"
          }
        }
      ]
    },
    {
      "cell_type": "code",
      "metadata": {
        "colab": {
          "base_uri": "https://localhost:8080/",
          "height": 265
        },
        "id": "V61Ezf0tGVHx",
        "outputId": "4ee939dd-d238-4fae-e3e0-2826531aa3e8"
      },
      "source": [
        "plot_graph(12,0.45) # Barkha"
      ],
      "execution_count": 112,
      "outputs": [
        {
          "output_type": "display_data",
          "data": {
            "image/png": "[encoded data removed]",
            "text/plain": [
              "<Figure size 432x288 with 1 Axes>"
            ]
          },
          "metadata": {
            "tags": [],
            "needs_background": "light"
          }
        }
      ]
    },
    {
      "cell_type": "code",
      "metadata": {
        "colab": {
          "base_uri": "https://localhost:8080/",
          "height": 282
        },
        "id": "MSW6aELPGwE6",
        "outputId": "8a0975f9-d56e-4cf2-84ac-273e63eeecfd"
      },
      "source": [
        "fig,ax=plt.subplots(1,1)\r\n",
        "x = np.arange(1,11)\r\n",
        "ax.plot(x, binom.pmf(x,8,0.75)*binom.pmf(x,12,0.45))\r\n",
        "ax.vlines(x, 0, binom.pmf(x,8,0.75)*binom.pmf(x,12,0.45), colors='r', lw=5, alpha=1)\r\n",
        "\r\n",
        "#We conclude that The combined probability of solving 6 question is high "
      ],
      "execution_count": 113,
      "outputs": [
        {
          "output_type": "execute_result",
          "data": {
            "text/plain": [
              "<matplotlib.collections.LineCollection at 0x7f6bb8cc83c8>"
            ]
          },
          "metadata": {
            "tags": []
          },
          "execution_count": 113
        },
        {
          "output_type": "display_data",
          "data": {
            "image/png": "[encoded data removed]",
            "text/plain": [
              "<Figure size 432x288 with 1 Axes>"
            ]
          },
          "metadata": {
            "tags": [],
            "needs_background": "light"
          }
        }
      ]
    },
    {
      "cell_type": "code",
      "metadata": {
        "colab": {
          "base_uri": "https://localhost:8080/"
        },
        "id": "sZElFScfI8yJ",
        "outputId": "2aa15226-c97d-4ce4-e247-e851391cb941"
      },
      "source": [
        "from scipy.stats import poisson\r\n",
        "\r\n",
        "mu = 4*(72/60) # customers per 4 minutes\r\n",
        "#three_customers = poisson.pmf(k=3, mu=mu)\r\n",
        "print(\"Probability of arriving 5 customers in 4 minutes is :\", poisson.pmf(k=5,mu=mu))\r\n",
        "print(\"Probability of arriving not more than 3 customers in 4 minutes is :\", poisson.pmf(k=3, mu=mu))\r\n",
        "print('Probability of more than 3 customers arriving in 4 minutes is :' ,1-poisson.cdf(k=3,mu=mu))"
      ],
      "execution_count": 114,
      "outputs": [
        {
          "output_type": "stream",
          "text": [
            "Probability of arriving 5 customers in 4 minutes is : 0.17474768364388296\n",
            "Probability of arriving not more than 3 customers in 4 minutes is : 0.15169069760753714\n",
            "Probability of more than 3 customers arriving in 4 minutes is : 0.7057700835034357\n"
          ],
          "name": "stdout"
        }
      ]
    },
    {
      "cell_type": "code",
      "metadata": {
        "colab": {
          "base_uri": "https://localhost:8080/",
          "height": 405
        },
        "id": "0ncxPymo0VNf",
        "outputId": "ab9e753e-b406-413b-e30c-dabc97fa87ec"
      },
      "source": [
        "x = list(range(0,10))\r\n",
        "fig,ax = plt.subplots(1,1,figsize=(12,6))\r\n",
        "ax.plot(x, poisson.pmf(x,mu))\r\n",
        "ax.vlines(x, 0, poisson.pmf(x, mu), colors='black', lw=5, alpha=0.5)\r\n",
        "plt.xlabel('No. of customers')\r\n",
        "plt.ylabel('Probability')"
      ],
      "execution_count": 115,
      "outputs": [
        {
          "output_type": "execute_result",
          "data": {
            "text/plain": [
              "Text(0, 0.5, 'Probability')"
            ]
          },
          "metadata": {
            "tags": []
          },
          "execution_count": 115
        },
        {
          "output_type": "display_data",
          "data": {
            "image/png": "[encoded data removed]",
            "text/plain": [
              "<Figure size 864x432 with 1 Axes>"
            ]
          },
          "metadata": {
            "tags": [],
            "needs_background": "light"
          }
        }
      ]
    },
    {
      "cell_type": "code",
      "metadata": {
        "colab": {
          "base_uri": "https://localhost:8080/",
          "height": 403
        },
        "id": "2wVBDnHn0fN1",
        "outputId": "108a144a-528b-45fd-8151-689702b757d6"
      },
      "source": [
        "from scipy.stats import poisson\r\n",
        "\r\n",
        "#Number of errors per word=0.1/77\r\n",
        "\r\n",
        "unit_mu=0.1/77\r\n",
        "\r\n",
        "def mu(n):\r\n",
        "    return n * unit_mu\r\n",
        "print(\"The pobability of commiting 2 errors in 455 words is :\",poisson.pmf(2,mu=mu(455)))\r\n",
        "print(\"The pobability of commiting 2 errors in 1000 words is :\",poisson.pmf(2,mu=mu(1000)))\r\n",
        "print(\"The pobability of commiting 2 errors in 255 words report is :\",poisson.pmf(2,mu=mu(255)))\r\n",
        "x=range(100,1200,30)\r\n",
        "mu=[i*unit_mu for i in x]\r\n",
        "fig,ax = plt.subplots(1,1,figsize=(15,5))\r\n",
        "ax.plot(x,poisson.pmf(2,mu))\r\n",
        "ax.vlines(x,0, poisson.pmf(2,mu), colors='brown', lw=5, alpha=0.5)\r\n",
        "plt.xlabel(\"Number of Words\")\r\n",
        "plt.ylabel(\"Probability of error\")\r\n",
        "# We conclude that As the number of words increase probability of getting errors also increases"
      ],
      "execution_count": 116,
      "outputs": [
        {
          "output_type": "stream",
          "text": [
            "The pobability of commiting 2 errors in 455 words is : 0.09669027375144444\n",
            "The pobability of commiting 2 errors in 1000 words is : 0.23012815007300153\n",
            "The pobability of commiting 2 errors in 255 words report is : 0.039377135392854104\n"
          ],
          "name": "stdout"
        },
        {
          "output_type": "execute_result",
          "data": {
            "text/plain": [
              "Text(0, 0.5, 'Probability of error')"
            ]
          },
          "metadata": {
            "tags": []
          },
          "execution_count": 116
        },
        {
          "output_type": "display_data",
          "data": {
            "image/png": "[encoded data removed]",
            "text/plain": [
              "<Figure size 1080x360 with 1 Axes>"
            ]
          },
          "metadata": {
            "tags": [],
            "needs_background": "light"
          }
        }
      ]
    },
    {
      "cell_type": "code",
      "metadata": {
        "colab": {
          "base_uri": "https://localhost:8080/"
        },
        "id": "xsHdkdIOxo_5",
        "outputId": "f9a3104b-c113-4901-f200-f7eb1eca3e86"
      },
      "source": [
        "def compute_z(z_score):\r\n",
        "  return scipy.stats.norm.sf(abs(z_score))\r\n",
        "\r\n",
        "print(\"P(Z>1.26): \",compute_z(1.26))\r\n",
        "print(\"P(Z<-0.86): \",compute_z(-0.86))\r\n",
        "print(\"P(Z>-1.37): \",1-compute_z(-1.37))\r\n",
        "print(\"P(-1.25 < Z < 0.37): \",(1-compute_z(0.37)) -compute_z(1.25))\r\n",
        "print(\"P(Z <= -4.6):  %.5f\"%(compute_z(-4.6)))"
      ],
      "execution_count": 117,
      "outputs": [
        {
          "output_type": "stream",
          "text": [
            "P(Z>1.26):  0.1038346811213004\n",
            "P(Z<-0.86):  0.1948945212518084\n",
            "P(Z>-1.37):  0.914656549178033\n",
            "P(-1.25 < Z < 0.37):  0.5386589811336914\n",
            "P(Z <= -4.6):  0.00000\n"
          ],
          "name": "stdout"
        }
      ]
    },
    {
      "cell_type": "code",
      "metadata": {
        "colab": {
          "base_uri": "https://localhost:8080/"
        },
        "id": "-ouQaaPY19yV",
        "outputId": "9e6bbc50-0553-4445-c8e7-758c965be9ff"
      },
      "source": [
        "from scipy.stats import norm\r\n",
        "print('P(Z>z)=0.05 is',(norm.ppf(0.95)))\r\n",
        "print('𝑃(−𝑧 < 𝑍 < 𝑧) = 0.99 is',(abs(norm.ppf(0.005))))"
      ],
      "execution_count": 118,
      "outputs": [
        {
          "output_type": "stream",
          "text": [
            "P(Z>z)=0.05 is 1.6448536269514722\n",
            "𝑃(−𝑧 < 𝑍 < 𝑧) = 0.99 is 2.575829303548901\n"
          ],
          "name": "stdout"
        }
      ]
    },
    {
      "cell_type": "code",
      "metadata": {
        "colab": {
          "base_uri": "https://localhost:8080/"
        },
        "id": "BZJH_QzHEqJh",
        "outputId": "f77e5ab3-4d7e-4b14-ebfc-c2372be4762a"
      },
      "source": [
        "mean = 10\r\n",
        "std = np.sqrt(4)\r\n",
        "x = 13 # SHOULD NOT EXCEED 13mA\r\n",
        "z = (x - mean)/std\r\n",
        "print(\"Probability of current measurement exceeding 13mA : \",compute_z(z))"
      ],
      "execution_count": 127,
      "outputs": [
        {
          "output_type": "stream",
          "text": [
            "Probability of current measurement exceeding 13mA :  0.06680720126885807\n"
          ],
          "name": "stdout"
        }
      ]
    },
    {
      "cell_type": "code",
      "metadata": {
        "colab": {
          "base_uri": "https://localhost:8080/"
        },
        "id": "vxXfUXLtgSl-",
        "outputId": "c2eb1f5d-ef51-4aab-f0bc-c93c83a6712a"
      },
      "source": [
        "a = 9\r\n",
        "b = 11\r\n",
        "# 9 < z < 11\r\n",
        "\r\n",
        "z_a = (a-mean)/std\r\n",
        "z_b = (b-mean)/std\r\n",
        "\r\n",
        "probab_a = compute_z(z_a)\r\n",
        "probab_b = 1-compute_z(z_b) \r\n",
        "\r\n",
        "final_probab = probab_b - probab_a\r\n",
        "\r\n",
        "print(\"Probability of current measurement between 9 and 11mA :\",final_probab)\r\n"
      ],
      "execution_count": 131,
      "outputs": [
        {
          "output_type": "stream",
          "text": [
            "Probability of current measurement between 9 and 11mA : 0.38292492254802624\n"
          ],
          "name": "stdout"
        }
      ]
    },
    {
      "cell_type": "code",
      "metadata": {
        "colab": {
          "base_uri": "https://localhost:8080/"
        },
        "id": "-t_itv5WgTHc",
        "outputId": "bb11bc34-360f-4d27-91ec-a783c0976ef7"
      },
      "source": [
        "probability = 0.98\r\n",
        "p_value = norm.ppf(probability)\r\n",
        "current = 2*p_value + 10\r\n",
        "print(\"Current measurement which has a probability of 0.98 is \"+str(current) + \"mA\")"
      ],
      "execution_count": 139,
      "outputs": [
        {
          "output_type": "stream",
          "text": [
            "Current measurement which has a probability of 0.98 is 14.107497821263646mA\n"
          ],
          "name": "stdout"
        }
      ]
    },
    {
      "cell_type": "code",
      "metadata": {
        "colab": {
          "base_uri": "https://localhost:8080/"
        },
        "id": "Gj_T0DXTkc91",
        "outputId": "e6afa460-9069-4308-d35a-00983d4c2959"
      },
      "source": [
        "lower = 0.2485\r\n",
        "upper = 0.2515\r\n",
        "xbar = 0.2508\r\n",
        "s = 0.0005\r\n",
        "z_l = (lower-xbar)/s\r\n",
        "z_u = (upper-xbar)/s\r\n",
        "\r\n",
        "probab_l = compute_z(z_l)\r\n",
        "probab_u = 1-compute_z(z_u) \r\n",
        "\r\n",
        "answer = np.round(probab_u - probab_l,decimals=2)\r\n",
        "\r\n",
        "print(f\"With the mean of 0.2508 it gives {answer} % of the shafts\")"
      ],
      "execution_count": 150,
      "outputs": [
        {
          "output_type": "stream",
          "text": [
            "With the mean of 0.2508 it gives 0.92 % of the shafts\n"
          ],
          "name": "stdout"
        }
      ]
    },
    {
      "cell_type": "code",
      "metadata": {
        "colab": {
          "base_uri": "https://localhost:8080/"
        },
        "id": "-7Yd9Lhgmyjv",
        "outputId": "5feedff5-3f3a-4c79-845a-73900df95cc8"
      },
      "source": [
        "xbar_new = 0.2500\r\n",
        "\r\n",
        "z_l = (lower-xbar_new)/s\r\n",
        "z_u = (upper-xbar_new)/s\r\n",
        "\r\n",
        "probab_l = compute_z(z_l)\r\n",
        "probab_u = 1-compute_z(z_u) \r\n",
        "\r\n",
        "answer = np.round(probab_u - probab_l,decimals=6)\r\n",
        "\r\n",
        "print(f\"With the mean of 0.2500 it gives {answer} % of the shafts\")\r\n",
        "\r\n",
        "# Thus we conclude that if the process is centerd i.e mean is 0.25 then it produces more number of shafts\r\n",
        "# It is due to more area is covered by the distb. whose mean is near to 0.25(centered mean) "
      ],
      "execution_count": 155,
      "outputs": [
        {
          "output_type": "stream",
          "text": [
            "With the mean of 0.2500 it gives 0.9973 % of the shafts\n"
          ],
          "name": "stdout"
        }
      ]
    },
    {
      "cell_type": "code",
      "metadata": {
        "id": "Aif9SUAHnwP8"
      },
      "source": [
        ""
      ],
      "execution_count": null,
      "outputs": []
    }
  ]
}