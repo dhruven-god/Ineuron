{
  "nbformat": 4,
  "nbformat_minor": 0,
  "metadata": {
    "colab": {
      "name": "pythonAssignment-4.ipynb",
      "provenance": [],
      "collapsed_sections": []
    },
    "kernelspec": {
      "name": "python3",
      "display_name": "Python 3"
    }
  },
  "cells": [
    {
      "cell_type": "code",
      "metadata": {
        "colab": {
          "base_uri": "https://localhost:8080/"
        },
        "id": "1n6WP19Z3Qin",
        "outputId": "67feff56-c3c0-4a47-8fc8-f4848898b8d7"
      },
      "source": [
        "class Triangle:\r\n",
        "  def __init__(self,a,b,c):\r\n",
        "    if b+c > a and a+b > c and a+c > b:\r\n",
        "\r\n",
        "      self.a = a\r\n",
        "      self.b = b\r\n",
        "      self.c = c\r\n",
        "    else:\r\n",
        "      print(\"Invalid sides for a Triangle\")\r\n",
        "  \r\n",
        "\r\n",
        "\r\n",
        "class Area(Triangle):\r\n",
        "  def __init__(self,a,b,c):\r\n",
        "    Triangle.__init__(self,a,b,c)\r\n",
        "\r\n",
        "  def area(self):\r\n",
        "\r\n",
        "      s = (self.a+self.b+self.c)/2\r\n",
        "      return (s*(s-self.a)*(s-self.b)*(s-self.c))**0.5\r\n",
        "\r\n",
        "\r\n",
        "triangle = Area(float(input(\"Side 1: \")), float(input(\"Side 2: \")), float(input(\"Side 3: \")))\r\n",
        "triangle.area()\r\n"
      ],
      "execution_count": 53,
      "outputs": [
        {
          "output_type": "stream",
          "text": [
            "Side 1: 3\n",
            "Side 2: 4\n",
            "Side 3: 5\n"
          ],
          "name": "stdout"
        },
        {
          "output_type": "execute_result",
          "data": {
            "text/plain": [
              "6.0"
            ]
          },
          "metadata": {
            "tags": []
          },
          "execution_count": 53
        }
      ]
    },
    {
      "cell_type": "code",
      "metadata": {
        "colab": {
          "base_uri": "https://localhost:8080/"
        },
        "id": "9qZfst3ogXz9",
        "outputId": "5c8e56e6-e22e-46b7-85cc-01510e6ce08e"
      },
      "source": [
        "n = 5\r\n",
        "\r\n",
        "def filter_long_words(words,n):\r\n",
        "\r\n",
        "  x = []\r\n",
        "  for i in range(len(words)):\r\n",
        "    if len(words[i]) > n:\r\n",
        "      x.append(words[i])\r\n",
        "  return x\r\n",
        "\r\n",
        "filter_long_words(['itachi','madara','guy','tobi','jiraiya','isshiki'],n)\r\n"
      ],
      "execution_count": 56,
      "outputs": [
        {
          "output_type": "execute_result",
          "data": {
            "text/plain": [
              "['itachi', 'madara', 'jiraiya', 'isshiki']"
            ]
          },
          "metadata": {
            "tags": []
          },
          "execution_count": 56
        }
      ]
    },
    {
      "cell_type": "code",
      "metadata": {
        "colab": {
          "base_uri": "https://localhost:8080/"
        },
        "id": "lwYA7KOHjnZg",
        "outputId": "ba6af73a-f20f-49e4-c6fa-2a5c7e21a895"
      },
      "source": [
        "def len_of_words(lst):\r\n",
        "\r\n",
        "  return list(map(len,lst))\r\n",
        "\r\n",
        "len_of_words(['sag','abcd','qwerty'])"
      ],
      "execution_count": 59,
      "outputs": [
        {
          "output_type": "execute_result",
          "data": {
            "text/plain": [
              "[3, 4, 6]"
            ]
          },
          "metadata": {
            "tags": []
          },
          "execution_count": 59
        }
      ]
    },
    {
      "cell_type": "code",
      "metadata": {
        "colab": {
          "base_uri": "https://localhost:8080/"
        },
        "id": "gIV2PfDJkSlo",
        "outputId": "12017d59-336d-44c4-d402-382397419794"
      },
      "source": [
        "\r\n",
        "def vowel_check(v):\r\n",
        "    vowels = [\"a\", \"e\", \"i\", \"o\", \"u\"]\r\n",
        "\r\n",
        "    for i in range(len(vowels)):\r\n",
        "        if v == vowels[i]:\r\n",
        "            return True\r\n",
        "    return False\r\n",
        "\r\n",
        "vowel_check(\"d\")"
      ],
      "execution_count": 61,
      "outputs": [
        {
          "output_type": "execute_result",
          "data": {
            "text/plain": [
              "False"
            ]
          },
          "metadata": {
            "tags": []
          },
          "execution_count": 61
        }
      ]
    },
    {
      "cell_type": "code",
      "metadata": {
        "id": "eazVBseOlN3N"
      },
      "source": [
        ""
      ],
      "execution_count": null,
      "outputs": []
    }
  ]
}