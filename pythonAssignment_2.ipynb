{
  "nbformat": 4,
  "nbformat_minor": 0,
  "metadata": {
    "colab": {
      "name": "pythonAssignment-2.ipynb",
      "provenance": []
    },
    "kernelspec": {
      "name": "python3",
      "display_name": "Python 3"
    }
  },
  "cells": [
    {
      "cell_type": "code",
      "metadata": {
        "colab": {
          "base_uri": "https://localhost:8080/"
        },
        "id": "DAE0I2OOq-OV",
        "outputId": "94d66b66-b51e-4fa2-cb0a-5cdfe958f8c4"
      },
      "source": [
        "for i in range(0,5): # Controls the rows\n",
        "  for j in range(0,i+1): # controls the number of columns\n",
        "    print('*',end='') # to make them align in a single row we use end = ''\n",
        "  print('\\r')\n",
        "\n",
        "for i in range(4)[::-1]: # We reverse the the starting of i \n",
        "    for j in range(0, i+1):\n",
        "        print('*',end=\"\") \n",
        "    print('\\r')"
      ],
      "execution_count": 29,
      "outputs": [
        {
          "output_type": "stream",
          "text": [
            "*\r\n",
            "**\r\n",
            "***\r\n",
            "****\r\n",
            "*****\r\n",
            "****\r\n",
            "***\r\n",
            "**\r\n",
            "*\r\n"
          ],
          "name": "stdout"
        }
      ]
    },
    {
      "cell_type": "code",
      "metadata": {
        "colab": {
          "base_uri": "https://localhost:8080/"
        },
        "id": "tG8sk3L7s7X9",
        "outputId": "11c8e531-a549-4960-e892-bed1d33cd758"
      },
      "source": [
        "name = input('enter name : ')\n",
        "\n",
        "print(name[::-1])"
      ],
      "execution_count": 27,
      "outputs": [
        {
          "output_type": "stream",
          "text": [
            "enter name : iNeuron\n",
            "norueNi\n"
          ],
          "name": "stdout"
        }
      ]
    },
    {
      "cell_type": "code",
      "metadata": {
        "id": "NmbEG7bZwF5w"
      },
      "source": [
        ""
      ],
      "execution_count": null,
      "outputs": []
    }
  ]
}