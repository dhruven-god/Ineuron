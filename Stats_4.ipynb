{
  "nbformat": 4,
  "nbformat_minor": 0,
  "metadata": {
    "colab": {
      "name": "Stats_4.ipynb",
      "private_outputs": true,
      "provenance": [],
      "authorship_tag": "ABX9TyO7MuciM/wbNPfGk5a8jn6l",
      "include_colab_link": true
    },
    "kernelspec": {
      "name": "python3",
      "display_name": "Python 3"
    }
  },
  "cells": [
    {
      "cell_type": "markdown",
      "metadata": {
        "id": "view-in-github",
        "colab_type": "text"
      },
      "source": [
        "<a href=\"https://colab.research.google.com/github/dhruven-god/Ineuron/blob/main/Stats_4.ipynb\" target=\"_parent\"><img src=\"https://colab.research.google.com/assets/colab-badge.svg\" alt=\"Open In Colab\"/></a>"
      ]
    },
    {
      "cell_type": "code",
      "metadata": {
        "id": "0oVA7uQA1dbW"
      },
      "source": [
        "import numpy as np\r\n",
        "import pandas as pd\r\n",
        "import math\r\n",
        "import scipy.stats as stats"
      ],
      "execution_count": null,
      "outputs": []
    },
    {
      "cell_type": "code",
      "metadata": {
        "id": "UfXZf-nEAaKj"
      },
      "source": [
        "data = {\"High_School\" :[60,40,100],\r\n",
        "        \"Bachelors\":[54,44,98],\r\n",
        "        \"Masters\":[46,53,99],\r\n",
        "        \"PHd\":[41,57,98],\r\n",
        "        \"row_total\":[201,194,395]}\r\n",
        "\r\n",
        "df = pd.DataFrame(data)\r\n",
        "df = df.rename({0:'Female',1:\"Male\", 2: \"col_Total\"}, axis='index')"
      ],
      "execution_count": null,
      "outputs": []
    },
    {
      "cell_type": "code",
      "metadata": {
        "id": "57S4Q9F9Bd7Y"
      },
      "source": [
        "df"
      ],
      "execution_count": null,
      "outputs": []
    },
    {
      "cell_type": "code",
      "metadata": {
        "id": "qmWsMdYlDlyh"
      },
      "source": [
        "df['row_total']"
      ],
      "execution_count": null,
      "outputs": []
    },
    {
      "cell_type": "code",
      "metadata": {
        "id": "243X7uSUB9qH"
      },
      "source": [
        "expected =  np.outer(df[\"row_total\"][0:2],\r\n",
        "                     df.loc[\"col_Total\"][0:4]) / 395\r\n",
        "df_expected = pd.DataFrame(expected)\r\n",
        "df_expected.columns = [\"High_School\",\"Bachelors\",\"Masters\",\"PHd\"]\r\n",
        "df_expected.index = [\"Female\",\"Male\"]\r\n",
        "df_expected"
      ],
      "execution_count": null,
      "outputs": []
    },
    {
      "cell_type": "code",
      "metadata": {
        "id": "Qahk1FwsFWqX"
      },
      "source": [
        "observed = df.copy()\r\n",
        "expected = df_expected.copy()"
      ],
      "execution_count": null,
      "outputs": []
    },
    {
      "cell_type": "code",
      "metadata": {
        "id": "EKqXCl5DGRzY"
      },
      "source": [
        "expected"
      ],
      "execution_count": null,
      "outputs": []
    },
    {
      "cell_type": "code",
      "metadata": {
        "id": "YfwifPKzGGxr"
      },
      "source": [
        "chi_square = (((observed-expected)**2)/expected).sum().sum()\r\n",
        "\r\n",
        "print(chi_square)"
      ],
      "execution_count": null,
      "outputs": []
    },
    {
      "cell_type": "code",
      "metadata": {
        "id": "q55gjF89GLy3"
      },
      "source": [
        "dof = (2-1) * (4-1) # total rows -1 * total columns - 1\r\n",
        "\r\n",
        "# The Value of CHi-square with dof = 3 at 5% significance level is 7.815 \r\n",
        "# 8.006 lies inside the critical region hence, We reject the null hypothesis thus education level depends on gender"
      ],
      "execution_count": null,
      "outputs": []
    },
    {
      "cell_type": "code",
      "metadata": {
        "id": "PP05nFZHIiQo"
      },
      "source": [
        "Group1 = [51, 45, 33, 45, 67]\r\n",
        "Group2 = [23, 43, 23, 43, 45]\r\n",
        "Group3 = [56, 76, 74, 87, 56]\r\n",
        "\r\n",
        "\r\n",
        "stats, pvalue = stats.f_oneway(Group1,Group2,Group3)\r\n",
        "print(\"F Statistic value {} , p-value {}\".format(stats,pvalue))\r\n",
        "if pvalue < 0.05:\r\n",
        "    print('True')\r\n",
        "else:\r\n",
        "    print('False')"
      ],
      "execution_count": null,
      "outputs": []
    },
    {
      "cell_type": "code",
      "metadata": {
        "id": "1uliSiqTJMFd"
      },
      "source": [
        "Group1 = [10, 20, 30, 40, 50]\r\n",
        "Group2 = [5,10,15, 20, 25]\r\n",
        "\r\n",
        "mean_1 = np.mean(Group1)\r\n",
        "mean_2 = np.mean(Group2)\r\n",
        "\r\n",
        "add1 = 0\r\n",
        "add2 = 0\r\n",
        "for items in Group1:\r\n",
        "    add1 += (items - mean_1)**2\r\n",
        "for items in Group2:\r\n",
        "    add2 += (items - mean_2)**2\r\n",
        "    \r\n",
        "var1 = add1/(len(Group1)-1)\r\n",
        "var2 = add2/(len(Group2)-1)\r\n",
        "\r\n",
        "F_Test = var1/var2\r\n",
        "print(\"F Test for given data is : \",F_Test)"
      ],
      "execution_count": null,
      "outputs": []
    },
    {
      "cell_type": "code",
      "metadata": {
        "id": "YKGsYzGjJe5B"
      },
      "source": [
        ""
      ],
      "execution_count": null,
      "outputs": []
    }
  ]
}