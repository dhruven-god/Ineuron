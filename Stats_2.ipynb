{
  "nbformat": 4,
  "nbformat_minor": 0,
  "metadata": {
    "colab": {
      "name": "Stats_2.ipynb",
      "provenance": [],
      "collapsed_sections": [],
      "authorship_tag": "ABX9TyOUkdBqo8Vl3w4M47JmAJtb",
      "include_colab_link": true
    },
    "kernelspec": {
      "name": "python3",
      "display_name": "Python 3"
    }
  },
  "cells": [
    {
      "cell_type": "markdown",
      "metadata": {
        "id": "view-in-github",
        "colab_type": "text"
      },
      "source": [
        "<a href=\"https://colab.research.google.com/github/dhruven-god/Ineuron/blob/main/Stats_2.ipynb\" target=\"_parent\"><img src=\"https://colab.research.google.com/assets/colab-badge.svg\" alt=\"Open In Colab\"/></a>"
      ]
    },
    {
      "cell_type": "markdown",
      "metadata": {
        "id": "8aSisK45j-Zz"
      },
      "source": [
        "1. 𝐻0: 𝜇 = 25, 𝐻1: 𝜇 ≠ 25\r\n",
        "2. 𝐻0: 𝜎 > 10, 𝐻1: 𝜎 = 10\r\n",
        "3. 𝐻0: 𝑥 = 50, 𝐻1: 𝑥 ≠ 50\r\n",
        "4. 𝐻0: 𝑝 = 0.1, 𝐻1: 𝑝 = 0.5\r\n",
        "5. 𝐻0: 𝑠 = 30, 𝐻1: 𝑠 > 30"
      ]
    },
    {
      "cell_type": "code",
      "metadata": {
        "colab": {
          "base_uri": "https://localhost:8080/",
          "height": 52
        },
        "id": "XUMszwjIjQB2",
        "outputId": "386f7278-792f-44d4-ec72-08ed16d979e3"
      },
      "source": [
        "'''\r\n",
        "1) Yes, both null and alternate hypothesis are opposite from each other and has population mean\r\n",
        "2) No, Null hypothesis doesn't have an inequality claim\r\n",
        "3)No, It cannot be used in terms of some data\r\n",
        "4)No, null and alternate hypothesis has different values\r\n",
        "5) Null and alternate hypothesis always has population terms not sample\r\n",
        "\r\n",
        "'''"
      ],
      "execution_count": 1,
      "outputs": [
        {
          "output_type": "execute_result",
          "data": {
            "application/vnd.google.colaboratory.intrinsic+json": {
              "type": "string"
            },
            "text/plain": [
              "\"\\n1) Yes, both null and alternate hypothesis are opposite from each other and has population mean\\n2) No, Null hypothesis doesn't have an inequality claim\\n3)No, It cannot be used in terms of some data\\n4)No, null and alternate hypothesis has different values\\n5) Null and alternate hypothesis always has population terms not sample\\n\\n\""
            ]
          },
          "metadata": {
            "tags": []
          },
          "execution_count": 1
        }
      ]
    },
    {
      "cell_type": "code",
      "metadata": {
        "colab": {
          "base_uri": "https://localhost:8080/"
        },
        "id": "yCaqYfV6k7-k",
        "outputId": "376c35fa-7db0-47eb-9722-6716f063edc0"
      },
      "source": [
        "from scipy.stats import norm\r\n",
        "import numpy as np\r\n",
        "import math\r\n",
        "import scipy.stats as stats\r\n",
        "import matplotlib.pyplot as plt\r\n",
        "\r\n",
        "# h0 = AvgPrice <= 52\r\n",
        "# h1 = AvgPrice >52\r\n",
        "pop_mean = 52\r\n",
        "pop_std = 4.50\r\n",
        "n = 100\r\n",
        "alpha = 0.05\r\n",
        "sample_mean = 52.80\r\n",
        "\r\n",
        "stderror = pop_std/np.sqrt(n)\r\n",
        "z_test = (sample_mean-pop_mean)/stderror\r\n",
        "\r\n",
        "z_table = norm.ppf(alpha)\r\n",
        "\r\n",
        "print(\"The Z-score of the above distribution is : \",np.round(z_test,decimals=4))\r\n",
        "\r\n",
        "print(\"The Z-table of the above distribution is : \",np.round(z_table,decimals=4))\r\n",
        "\r\n",
        "# We can conclude we accept null hypothesis since the z-score doesn't lie in the signifcance region of the distribution"
      ],
      "execution_count": 2,
      "outputs": [
        {
          "output_type": "stream",
          "text": [
            "The Z-score of the above distribution is :  1.7778\n",
            "The Z-table of the above distribution is :  -1.6449\n"
          ],
          "name": "stdout"
        }
      ]
    },
    {
      "cell_type": "code",
      "metadata": {
        "id": "4sws80FguILl"
      },
      "source": [
        "def z_score(pop_mean,pop_std,sample_mean,n):\r\n",
        "  return np.round((sample_mean-pop_mean)*np.sqrt(n)/pop_std,decimals=4)"
      ],
      "execution_count": 3,
      "outputs": []
    },
    {
      "cell_type": "code",
      "metadata": {
        "colab": {
          "base_uri": "https://localhost:8080/"
        },
        "id": "GOd-jB_uzt8A",
        "outputId": "026049d6-7cae-436c-b1be-937e3ff8004e"
      },
      "source": [
        "# h0 = discharge liquids into the river is lowered\r\n",
        "# h1 = discharge liquids into the river is not lowered\r\n",
        "\r\n",
        "print(\"The Z-score of the distribution is : \",z_score(34,8,32.5,50))\r\n",
        "\r\n",
        "z_table = norm.ppf(0.01)\r\n",
        "\r\n",
        "print(\"The Z-table of the above distribution is : \",np.round(z_table,decimals=4))\r\n",
        "\r\n",
        "# We can conclude we accept null hypothesis since the z-score doesn't lie in the signifcance region of the distribution\r\n",
        "# And the discharge of the liquids in the river is lowered"
      ],
      "execution_count": 4,
      "outputs": [
        {
          "output_type": "stream",
          "text": [
            "The Z-score of the distribution is :  -1.3258\n",
            "The Z-table of the above distribution is :  -2.3263\n"
          ],
          "name": "stdout"
        }
      ]
    },
    {
      "cell_type": "code",
      "metadata": {
        "colab": {
          "base_uri": "https://localhost:8080/"
        },
        "id": "bKPIiI-fz5YQ",
        "outputId": "623e54dc-b66e-43f7-ea60-d776be995c65"
      },
      "source": [
        "sample=[1008, 812, 1117, 1323, 1308, 1415, 831, 1021, 1287, 851, 930, 730, 699, 872, 913, 944, 954, 987, 1695, 995, 1003, 994]\r\n",
        "\r\n",
        "# ho = Figure is accurate\r\n",
        "#h1 = Figure is not accurate\r\n",
        "pop_mean\r\n",
        "n = len(sample)\r\n",
        "sample_mean = np.mean(sample)\r\n",
        "sample_std = np.std(sample)\r\n",
        "\r\n",
        "t_test = (sample_mean-pop_mean)*np.sqrt(n)/sample_std\r\n",
        "\r\n",
        "print(\"The t-score of the above distribution is : \",np.round(t_test,decimals=4))\r\n",
        "\r\n",
        "print(f\"Critical Region is {stats.t.ppf((0.5/2),df=21)},{stats.t.ppf(1-(0.5/2),df=21)}\")\r\n",
        "\r\n",
        "# We reject the null hypothesis as the t_score falls within the rejection region "
      ],
      "execution_count": 5,
      "outputs": [
        {
          "output_type": "stream",
          "text": [
            "The t-score of the above distribution is :  19.5591\n",
            "Critical Region is -0.6863519891164291,0.6863519891164291\n"
          ],
          "name": "stdout"
        }
      ]
    },
    {
      "cell_type": "code",
      "metadata": {
        "colab": {
          "base_uri": "https://localhost:8080/"
        },
        "id": "I-HE8wu09M7D",
        "outputId": "9129dca6-6294-432b-9cd7-7bc1abaf8bdc"
      },
      "source": [
        "#h0 = Report is valid\r\n",
        "#h1 = Report is not valid\r\n",
        "\r\n",
        "\r\n",
        "print(\"The Z-score of the distribution is : \",z_score(48432,2000,48574,400))\r\n",
        "\r\n",
        "alpha=0.05\r\n",
        "\r\n",
        "print(f\"Critical region is {norm.ppf(alpha/2)},{-norm.ppf(alpha/2)}\")\r\n",
        "\r\n",
        "# We accept the null hypothesis as it does not lies in the critical region\r\n",
        "# Report is valid"
      ],
      "execution_count": 6,
      "outputs": [
        {
          "output_type": "stream",
          "text": [
            "The Z-score of the distribution is :  1.42\n",
            "Critical region is -1.9599639845400545,1.9599639845400545\n"
          ],
          "name": "stdout"
        }
      ]
    },
    {
      "cell_type": "code",
      "metadata": {
        "colab": {
          "base_uri": "https://localhost:8080/"
        },
        "id": "Va8BHDjFBvB4",
        "outputId": "99767ea9-6ba2-4353-9170-79f5333a31eb"
      },
      "source": [
        "#h0 = Price has not changed\r\n",
        "#h1 = Price has changed\r\n",
        "\r\n",
        "p_mean =32.28\r\n",
        "n=19\r\n",
        "sample_mean =31.67\r\n",
        "sample_std =1.29\r\n",
        "alpha =0.05\r\n",
        "\r\n",
        "SE=sample_std/(n**0.5)\r\n",
        "t=(sample_mean-p_mean)/SE\r\n",
        "\r\n",
        "print(f\"t_score is {round((t),5)}\")\r\n",
        "print(f\"Critical region is {np.round(stats.t.ppf((alpha/2),df=18),4)},{-round(stats.t.ppf((alpha/2),df=18),4)}\")\r\n",
        "\r\n",
        "# We reject the null hypothesis as tscore lies in the critical region\r\n",
        "# hence, Price has changed"
      ],
      "execution_count": 7,
      "outputs": [
        {
          "output_type": "stream",
          "text": [
            "t_score is -2.06118\n",
            "Critical region is -2.1009,2.1009\n"
          ],
          "name": "stdout"
        }
      ]
    },
    {
      "cell_type": "code",
      "metadata": {
        "colab": {
          "base_uri": "https://localhost:8080/"
        },
        "id": "RQJGpiEIO76K",
        "outputId": "a1b7de4b-fbe3-4688-f83f-cd2d26b9ab37"
      },
      "source": [
        "n = 16\r\n",
        "p_mean = 10\r\n",
        "sample_mean =12\r\n",
        "sample_std =1.5\r\n",
        "\r\n",
        "SE = sample_std/(n**0.5)\r\n",
        "t_score = (sample_mean-p_mean)/SE\r\n",
        "print(f\"t_score is {np.round((t_score),decimals=4)}\")"
      ],
      "execution_count": 8,
      "outputs": [
        {
          "output_type": "stream",
          "text": [
            "t_score is 5.3333\n"
          ],
          "name": "stdout"
        }
      ]
    },
    {
      "cell_type": "code",
      "metadata": {
        "colab": {
          "base_uri": "https://localhost:8080/"
        },
        "id": "tB4C6VAucf-B",
        "outputId": "352054f6-1fc0-47e0-ed9e-4646c79759a0"
      },
      "source": [
        "n= 16\r\n",
        "alpha=(1-0.99)/2\r\n",
        "print(f\"t_score is {stats.t.ppf(1-alpha,df=15)}\")"
      ],
      "execution_count": 9,
      "outputs": [
        {
          "output_type": "stream",
          "text": [
            "t_score is 2.946712883338615\n"
          ],
          "name": "stdout"
        }
      ]
    },
    {
      "cell_type": "code",
      "metadata": {
        "colab": {
          "base_uri": "https://localhost:8080/"
        },
        "id": "cauvrYDocrGM",
        "outputId": "1fcd854a-76dd-4c2f-ac5b-0f7575a5974c"
      },
      "source": [
        "n=25\r\n",
        "std=4\r\n",
        "mean=60\r\n",
        "alpha=0.05 #Because Confidence interval is 95%\r\n",
        "t_score=stats.t.ppf(alpha,df=24)\r\n",
        "print(f\"Range is : {mean+t_score*(std/(n**0.5))} to {mean-t_score*(std/(n**0.5))}\")"
      ],
      "execution_count": 10,
      "outputs": [
        {
          "output_type": "stream",
          "text": [
            "Range is : 58.63129433607246 to 61.36870566392754\n"
          ],
          "name": "stdout"
        }
      ]
    },
    {
      "cell_type": "code",
      "metadata": {
        "colab": {
          "base_uri": "https://localhost:8080/"
        },
        "id": "_L-t4i40dCrX",
        "outputId": "9f4c9f05-6e77-4a97-b043-7e33664bb3d2"
      },
      "source": [
        "prob=stats.t.cdf(0.1,df=24)-stats.t.cdf(-0.05,df=24)\r\n",
        "print(f\"probability that (−𝑡 0.05 <𝑡 < 𝑡 0.10) is {prob}\")"
      ],
      "execution_count": 11,
      "outputs": [
        {
          "output_type": "stream",
          "text": [
            "probability that (−𝑡 0.05 <𝑡 < 𝑡 0.10) is 0.05914441613731247\n"
          ],
          "name": "stdout"
        }
      ]
    },
    {
      "cell_type": "code",
      "metadata": {
        "colab": {
          "base_uri": "https://localhost:8080/"
        },
        "id": "BJPz7E43dUob",
        "outputId": "62b30bab-cb8f-4ed6-ab17-5b524aa1851e"
      },
      "source": [
        "#h0 = Number of people are same\r\n",
        "#h1 = Number of people are diffferent\r\n",
        "\r\n",
        "n1 = 1200 \r\n",
        "x1 = 452\r\n",
        "s1 = 212\r\n",
        "n2 = 800\r\n",
        "x2 = 523\r\n",
        "s2 = 185\r\n",
        "var_1=s1**2\r\n",
        "var_2=s2**2\r\n",
        "alpha=0.05\r\n",
        "\r\n",
        "se=((var_1/n1)+(var_2/n2))**0.5\r\n",
        "z_score=(x1-x2)/se\r\n",
        "print(f\"Z_Score is {z_score}\")\r\n",
        "print(f\"Critical region is {norm.ppf(alpha/2)},{-norm.ppf(alpha/2)}\")\r\n",
        "\r\n",
        "# Thus, we reject the null hypothesis as z_score lies in the critical region of the distribution\r\n",
        "# hence. number of people are different"
      ],
      "execution_count": 12,
      "outputs": [
        {
          "output_type": "stream",
          "text": [
            "Z_Score is -7.926428526759299\n",
            "Critical region is -1.9599639845400545,1.9599639845400545\n"
          ],
          "name": "stdout"
        }
      ]
    },
    {
      "cell_type": "code",
      "metadata": {
        "colab": {
          "base_uri": "https://localhost:8080/"
        },
        "id": "rg44qX9JgaoV",
        "outputId": "29f50501-186b-4c71-feb7-ef74c876c149"
      },
      "source": [
        "#h0 = Number of people are same refering to duracell and energizer batttery\r\n",
        "#h1 = Number of people are diffferent....\r\n",
        "\r\n",
        "n1 = 100\r\n",
        "x1 = 308\r\n",
        "s1 = 84\r\n",
        "n2 = 100\r\n",
        "x2 = 254\r\n",
        "s2 = 67\r\n",
        "var_1=s1**2\r\n",
        "var_2=s2**2\r\n",
        "\r\n",
        "alpha=0.05\r\n",
        "\r\n",
        "stderror=((var_1/n1)+(var_2/n2))**0.5\r\n",
        "z_score=(x1-x2)/stderror\r\n",
        "print(f\"Z_Score is {z_score}\")\r\n",
        "print(f\"Critical region is {norm.ppf(alpha/2)} {-norm.ppf(alpha/2)}\")\r\n",
        "\r\n",
        "# Thus, we reject the null hypothesis as z_score lies in the critical region of the distribution\r\n",
        "# hence. number of people are different that prefers duracell and energizer batteries"
      ],
      "execution_count": 13,
      "outputs": [
        {
          "output_type": "stream",
          "text": [
            "Z_Score is 5.025702668336442\n",
            "Critical region is -1.9599639845400545 1.9599639845400545\n"
          ],
          "name": "stdout"
        }
      ]
    },
    {
      "cell_type": "code",
      "metadata": {
        "colab": {
          "base_uri": "https://localhost:8080/"
        },
        "id": "xLmnS2WyhV7e",
        "outputId": "395999b5-0bc7-440f-b8d3-b04f521815f7"
      },
      "source": [
        "#h0 = Avg Price remains the same\r\n",
        "#h1 = Avg price incereases\r\n",
        "\r\n",
        "n1 = 14 \r\n",
        "x1 = 0.317\r\n",
        "s1 = 0.12 \r\n",
        "n2 = 9 \r\n",
        "x2 = 0.21 \r\n",
        "s2 = 0.11\r\n",
        "var_1=s1**2\r\n",
        "var_2=s2**2\r\n",
        "\r\n",
        "df=(n1+n2-2)\r\n",
        "\r\n",
        "sp=(((n1-1)*var_1)+((n2-1)*var_2))/df\r\n",
        "\r\n",
        "N=((1/n1)+(1/n2))\r\n",
        "\r\n",
        "stderror = sp*N\r\n",
        "\r\n",
        "t_score=(x1-x2)/(np.sqrt(stderror))\r\n",
        "\r\n",
        "alpha = 0.05\r\n",
        "print(f\"t_score is {t_score}\")\r\n",
        "print(f\"Critical Region is  {stats.t.ppf(alpha/2,df=df)},{-stats.t.ppf(alpha/2,df=df)}\")\r\n",
        "\r\n",
        "# Thus, we accept the null hypothesis with 5% of significance as z_score does not lie in the critical region of the distribution\r\n",
        "# hence, Avg Price does not increase"
      ],
      "execution_count": 14,
      "outputs": [
        {
          "output_type": "stream",
          "text": [
            "t_score is 2.15355322387416\n",
            "Critical Region is  -2.0796138447276626,2.0796138447276626\n"
          ],
          "name": "stdout"
        }
      ]
    },
    {
      "cell_type": "code",
      "metadata": {
        "colab": {
          "base_uri": "https://localhost:8080/"
        },
        "id": "SMpvaEVbj1To",
        "outputId": "ef6d094e-68b5-4a7a-c92f-2fb8e499171d"
      },
      "source": [
        "n1 = 15 \r\n",
        "x1 = 6598 \r\n",
        "s1 = 844 \r\n",
        "n2 = 12 \r\n",
        "x2 = 6870 \r\n",
        "s2 = 669\r\n",
        "var_1=s1**2\r\n",
        "var_2=s2**2\r\n",
        "\r\n",
        "df=(n1+n2-2)\r\n",
        "\r\n",
        "sp=(((n1-1)*var_1)+((n2-1)*var_2))/df\r\n",
        "\r\n",
        "N=((1/n1)+(1/n2))\r\n",
        "\r\n",
        "stderror = sp*N\r\n",
        "\r\n",
        "t_score=(x1-x2)/(np.sqrt(stderror))\r\n",
        "\r\n",
        "alpha = 0.1\r\n",
        "print(f\"T_score is {t_score}\")\r\n",
        "print(f\"Critical Region is {stats.t.ppf(alpha,df=df)}\")\r\n",
        "\r\n",
        "## Thus, we accept the null hypothesis with 10% of significance as z_score does not lie in the critical region of the distribution\r\n",
        "# hence, Avg Price remains same"
      ],
      "execution_count": 15,
      "outputs": [
        {
          "output_type": "stream",
          "text": [
            "T_score is -0.9098300343990461\n",
            "Critical Region is -1.316345076559259\n"
          ],
          "name": "stdout"
        }
      ]
    },
    {
      "cell_type": "code",
      "metadata": {
        "colab": {
          "base_uri": "https://localhost:8080/"
        },
        "id": "TT5EVfy-ph0N",
        "outputId": "1190642e-2ebf-4c06-99c2-0055b036d2f6"
      },
      "source": [
        "n1 = 1000 \r\n",
        "x1 = 53 \r\n",
        "p1 = 0.53 \r\n",
        "n2 = 100 \r\n",
        "x2 = 43 \r\n",
        "p2= 0.53\r\n",
        "\r\n",
        "p=(x1+x2)/(n1+n2)\r\n",
        "\r\n",
        "N=(1/n1)+(1/n2)\r\n",
        "\r\n",
        "P=p*(1-p)\r\n",
        "\r\n",
        "Z=(p1-p2)/((P*N)**0.5)\r\n",
        "\r\n",
        "alpha = 0.05\r\n",
        "print(f\"Z_score is {Z}\")\r\n",
        "print(f\"Critical region is {norm.ppf(alpha/2)},{-norm.ppf(alpha/2)}\")\r\n",
        "\r\n",
        "# we accept null hypothesis"
      ],
      "execution_count": 16,
      "outputs": [
        {
          "output_type": "stream",
          "text": [
            "Z_score is 0.0\n",
            "Critical region is -1.9599639845400545,1.9599639845400545\n"
          ],
          "name": "stdout"
        }
      ]
    },
    {
      "cell_type": "code",
      "metadata": {
        "colab": {
          "base_uri": "https://localhost:8080/"
        },
        "id": "RXfIGqpM9UY9",
        "outputId": "d64006f3-b0d2-467f-b973-6a77ac1901cd"
      },
      "source": [
        "#h0 = p1-p2 <= 0.10\r\n",
        "#h1 = p1-p2 > 0.10\r\n",
        "\r\n",
        "n1 = 300 \r\n",
        "x1 = 120 \r\n",
        "p1 = 0.40  \r\n",
        "n2 = 700 \r\n",
        "x2 = 140 \r\n",
        "p2= 0.20\r\n",
        "\r\n",
        "p=(x1+x2)/(n1+n2)\r\n",
        "\r\n",
        "n=(1/n1)+(1/n2)\r\n",
        "\r\n",
        "P=p*(1-p)\r\n",
        "\r\n",
        "Z=(p1-p2-0.1)/((P*n)**0.5)\r\n",
        "\r\n",
        "print(f\"Z_score is {Z}\")\r\n",
        "print(f\"Critical region is {-norm.ppf(0.1)}\")\r\n",
        "\r\n",
        "# We reject the null hypothesis at 10% as Z lie in the critical region \r\n",
        "# We conclude that the proportion of customers buying at least $2500 of travelers checks is at least 10% higher when sweepstakes are on."
      ],
      "execution_count": 17,
      "outputs": [
        {
          "output_type": "stream",
          "text": [
            "Z_score is 3.303749523611152\n",
            "Critical region is 1.2815515655446004\n"
          ],
          "name": "stdout"
        }
      ]
    },
    {
      "cell_type": "code",
      "metadata": {
        "id": "zGTws476_K2R",
        "colab": {
          "base_uri": "https://localhost:8080/"
        },
        "outputId": "1b34fc40-73ba-4d85-c7bd-b35563d927d9"
      },
      "source": [
        "#h0 = Dice is unbiased\r\n",
        "#h1 = Dice is biased\r\n",
        "\r\n",
        "observed = [16,20,25,14,29,28]\r\n",
        "\r\n",
        "expected = [22,22,22,22,22,22]\r\n",
        "\r\n",
        "from scipy.stats import chisquare\r\n",
        "\r\n",
        "chisquare(observed,expected)\r\n",
        "# WE accept the null hyothesis that The DIce is unbiased as P-value is > 0.05\r\n"
      ],
      "execution_count": 18,
      "outputs": [
        {
          "output_type": "execute_result",
          "data": {
            "text/plain": [
              "Power_divergenceResult(statistic=9.0, pvalue=0.1090641579497725)"
            ]
          },
          "metadata": {
            "tags": []
          },
          "execution_count": 18
        }
      ]
    },
    {
      "cell_type": "code",
      "metadata": {
        "colab": {
          "base_uri": "https://localhost:8080/"
        },
        "id": "hA19TeoY12pF",
        "outputId": "1c378ca1-3db5-4f43-f6e8-1e9642610a30"
      },
      "source": [
        "n = 10000\r\n",
        "observed_voted_men=2792\r\n",
        "observed_voted_women=3591\r\n",
        "observed_not_voted_men=1486\r\n",
        "observed_not_voted_women=2131\r\n",
        "total_voted=2792+3591\r\n",
        "total_not_voted=1486+2131\r\n",
        "total_men=2792+1486\r\n",
        "total_women=3591+2131\r\n",
        "expected_voted_men=(total_voted*total_men)/n\r\n",
        "expected_voted_women=(total_voted*total_women)/n\r\n",
        "expected_not_voted_men=(total_not_voted*total_men)/n\r\n",
        "expected_not_voted_women=(total_not_voted*total_women)/n\r\n",
        "chisquare1=(((observed_voted_women-expected_voted_women)**2)/expected_voted_women)\r\n",
        "chisquare2=(((observed_voted_men-expected_voted_men)**2)/expected_voted_men)\r\n",
        "chisquare3=(((observed_not_voted_men-expected_not_voted_men)**2)/expected_not_voted_men)\r\n",
        "chisquare4=(((observed_not_voted_women-expected_not_voted_women)**2)/expected_not_voted_women)\r\n",
        "chisquare=chisquare1+chisquare2+chisquare3+chisquare4\r\n",
        "print(f\"Chi Square value is {chisquare}\")\r\n",
        "print(f\"Critical region with alpha=0.05 is 3.84\")\r\n",
        "print(\"We reject null hypothesis, and It is not gender and voting independent\")"
      ],
      "execution_count": 19,
      "outputs": [
        {
          "output_type": "stream",
          "text": [
            "Chi Square value is 6.660455899328067\n",
            "Critical region with alpha=0.05 is 3.84\n",
            "We reject null hypothesis, and It is not gender and voting independent\n"
          ],
          "name": "stdout"
        }
      ]
    },
    {
      "cell_type": "code",
      "metadata": {
        "colab": {
          "base_uri": "https://localhost:8080/"
        },
        "id": "ZzNdmeBK13l6",
        "outputId": "fa8400ae-be7f-4bc9-86da-a059a15e2756"
      },
      "source": [
        "obs=[41,19,24,16]\r\n",
        "exp=[25,25,25,25]\r\n",
        "result= np.round(stats.chisquare(obs,exp),decimals=6)\r\n",
        "print(f\"Chi Square value is {result[0]}\")\r\n",
        "print(f\"Critical region with 3df and alpha=0.05 is 7.82\")\r\n",
        "print(\"We reject null hypothesis, as chi_square value falls under the critical region. All candidates are not equally popular\")"
      ],
      "execution_count": 23,
      "outputs": [
        {
          "output_type": "stream",
          "text": [
            "Chi Square value is 14.96\n",
            "Critical region with 3df and alpha=0.05 is 7.82\n",
            "We reject null hypothesis, as chi_square value falls under the critical region. All candidates are not equally popular\n"
          ],
          "name": "stdout"
        }
      ]
    },
    {
      "cell_type": "code",
      "metadata": {
        "id": "hC3g8i16Devs",
        "colab": {
          "base_uri": "https://localhost:8080/"
        },
        "outputId": "57d9cfd1-ee2d-4a9b-bfcc-79c4070db3b7"
      },
      "source": [
        "from scipy.stats import chi2_contingency\r\n",
        "obs=([[18,22,20],[2,28,40],[20,10,40]])\r\n",
        "result=chi2_contingency(obs)\r\n",
        "print(f\"Chi Square value is {result[0]}\")\r\n",
        "print(f\"Critical region with 4df and alpha=0.001 is 18.47\")\r\n",
        "print(\"We reject null hypothesis.There is relationship between age and photograph preference\")"
      ],
      "execution_count": 31,
      "outputs": [
        {
          "output_type": "stream",
          "text": [
            "Chi Square value is 29.603174603174608\n",
            "Critical region with 4df and alpha=0.001 is 18.47\n",
            "We reject null hypothesis.There is relationship between age and photograph preference\n"
          ],
          "name": "stdout"
        }
      ]
    },
    {
      "cell_type": "code",
      "metadata": {
        "colab": {
          "base_uri": "https://localhost:8080/"
        },
        "id": "6iIqf9L7lmZS",
        "outputId": "a876fb91-e450-41bc-d764-074ce7c814c2"
      },
      "source": [
        "obs=np.array([[18,40],[32,10]])\r\n",
        "result=chi2_contingency(obs)\r\n",
        "print(f\"Chi Square value is {result[0]}\")\r\n",
        "print(f\"Critical region with 1df and alpha=0.001 is 10.83\")\r\n",
        "print(\"We reject null hypoythesis. So,there is difference between the 'support' and 'no support' conditions in the frequency with which individuals are likely to conform\")"
      ],
      "execution_count": 32,
      "outputs": [
        {
          "output_type": "stream",
          "text": [
            "Chi Square value is 18.10344827586207\n",
            "Critical region with 1df and alpha=0.001 is 10.83\n",
            "We reject null hypoythesis. So,there is difference between the 'support' and 'no support' conditions in the frequency with which individuals are likely to conform\n"
          ],
          "name": "stdout"
        }
      ]
    },
    {
      "cell_type": "code",
      "metadata": {
        "colab": {
          "base_uri": "https://localhost:8080/"
        },
        "id": "fODtO1UJn1xC",
        "outputId": "19836c82-a914-4659-ead5-4fb351d7c835"
      },
      "source": [
        "obs=([[12,32],[22,14],[9,6]])\r\n",
        "result=chi2_contingency(obs)\r\n",
        "print(f\"Chi Square value is {result[0]}\")\r\n",
        "print(f\"Critical region with 2df and alpha=0.001 = 13.82\")\r\n",
        "print(\"We accept null hypothesis and there is no relationship between height and leadership qualities\")"
      ],
      "execution_count": 33,
      "outputs": [
        {
          "output_type": "stream",
          "text": [
            "Chi Square value is 10.712198008709638\n",
            "Critical region with 2df and alpha=0.001 = 13.82\n",
            "We accept null hypothesis and there is no relationship between height and leadership qualities\n"
          ],
          "name": "stdout"
        }
      ]
    },
    {
      "cell_type": "code",
      "metadata": {
        "colab": {
          "base_uri": "https://localhost:8080/"
        },
        "id": "am30DEp_n57_",
        "outputId": "0e359107-8513-43c0-8323-29d3532b8f6a"
      },
      "source": [
        "obs = np.array([[679,103,114], [63,10,20],[42,18,25]])\r\n",
        "result=chi2_contingency(obs)\r\n",
        "print(f\"Chi Square value is {result[0]}\")\r\n",
        "print(f\"Critical region with 4df and alpha=0.001 = 18.47\")\r\n",
        "print(\"We reject null hypothesis at alpha=0.001 and there is relationship between martial status and employment status\")"
      ],
      "execution_count": 29,
      "outputs": [
        {
          "output_type": "stream",
          "text": [
            "Chi Square value is 31.61310319407798\n",
            "Critical region with 4df and alpha=0.001 = 18.47\n",
            "We reject null hypothesis at alpha=0.001 and there is relationship between martial status and employment status\n"
          ],
          "name": "stdout"
        }
      ]
    },
    {
      "cell_type": "code",
      "metadata": {
        "id": "BwgHqP_RoBaD"
      },
      "source": [
        ""
      ],
      "execution_count": null,
      "outputs": []
    }
  ]
}