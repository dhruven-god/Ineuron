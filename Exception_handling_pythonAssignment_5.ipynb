{
  "nbformat": 4,
  "nbformat_minor": 0,
  "metadata": {
    "colab": {
      "name": "Exception handling pythonAssignment-5.ipynb",
      "provenance": [],
      "collapsed_sections": []
    },
    "kernelspec": {
      "name": "python3",
      "display_name": "Python 3"
    }
  },
  "cells": [
    {
      "cell_type": "code",
      "metadata": {
        "colab": {
          "base_uri": "https://localhost:8080/"
        },
        "id": "eazVBseOlN3N",
        "outputId": "d62fd3c1-42a2-46f8-849b-f75399b93849"
      },
      "source": [
        "def divide(n):\r\n",
        "    try:\r\n",
        "        x = n/0\r\n",
        "    except ZeroDivisionError:\r\n",
        "        print(\"Error : Divison by zero !\")\r\n",
        "    \r\n",
        "divide(5)"
      ],
      "execution_count": 66,
      "outputs": [
        {
          "output_type": "stream",
          "text": [
            "Error : Divison by zero !\n"
          ],
          "name": "stdout"
        }
      ]
    },
    {
      "cell_type": "code",
      "metadata": {
        "colab": {
          "base_uri": "https://localhost:8080/"
        },
        "id": "7FHRjffU5NLO",
        "outputId": "c63667f4-72e9-4a68-a013-d6b2471f68a2"
      },
      "source": [
        "subjects=[\"Americans \",\"Indians\"]\r\n",
        "verbs=[\"play\",\"watch\"]\r\n",
        "objects=[\"Baseball\",\"Cricket\"]\r\n",
        "\r\n",
        "for i in subjects:\r\n",
        "    for j in verbs:\r\n",
        "        for k in objects:\r\n",
        "            print(i+\" \"+j+\" \"+k+\".\")"
      ],
      "execution_count": 65,
      "outputs": [
        {
          "output_type": "stream",
          "text": [
            "Americans  play Baseball.\n",
            "Americans  play Cricket.\n",
            "Americans  watch Baseball.\n",
            "Americans  watch Cricket.\n",
            "Indians play Baseball.\n",
            "Indians play Cricket.\n",
            "Indians watch Baseball.\n",
            "Indians watch Cricket.\n"
          ],
          "name": "stdout"
        }
      ]
    },
    {
      "cell_type": "code",
      "metadata": {
        "id": "xM7CRjiD5tFP"
      },
      "source": [
        ""
      ],
      "execution_count": null,
      "outputs": []
    }
  ]
}