{
  "nbformat": 4,
  "nbformat_minor": 0,
  "metadata": {
    "colab": {
      "name": "pythonassigment-3.ipynb",
      "provenance": [],
      "collapsed_sections": []
    },
    "kernelspec": {
      "name": "python3",
      "display_name": "Python 3"
    }
  },
  "cells": [
    {
      "cell_type": "code",
      "metadata": {
        "colab": {
          "base_uri": "https://localhost:8080/"
        },
        "id": "TlTbax_fUNTu",
        "outputId": "e448ea89-81b7-488f-c072-be693af82896"
      },
      "source": [
        "from functools import reduce\n",
        "\n",
        "x = [2,3,4,5,6]\n",
        "\n",
        "print ('By using Reduce function sum is : ',reduce(lambda a,b : a+b,x))\n",
        "\n",
        "print('\\n')\n",
        "\n",
        "# WITHOUT REDUCE FUNCTION\n",
        "\n",
        "def reduced(x):\n",
        "    \n",
        "    n = len(x)\n",
        "    \n",
        "    total = 0\n",
        "    for i in range (0,n):\n",
        "        total += x[i]\n",
        "\n",
        "    return total\n",
        "\n",
        "x = [2,3,4,5,6]\n",
        "print(\"The sum without using reduce function is :  \",reduced(x))"
      ],
      "execution_count": 1,
      "outputs": [
        {
          "output_type": "stream",
          "text": [
            "By using Reduce function sum is :  20\n",
            "\n",
            "\n",
            "The sum without using reduce function is :   20\n"
          ],
          "name": "stdout"
        }
      ]
    },
    {
      "cell_type": "code",
      "metadata": {
        "colab": {
          "base_uri": "https://localhost:8080/"
        },
        "id": "WherNgnVUOla",
        "outputId": "f403bcb8-5c9d-4ee0-9275-b2b1bf666c46"
      },
      "source": [
        "y = [23,42,54,254,52,234]\n",
        "\n",
        "# This will only return even numbers and filter out odd numbers \n",
        "\n",
        "list(filter(lambda x:x % 2 == 0,y))"
      ],
      "execution_count": 2,
      "outputs": [
        {
          "output_type": "execute_result",
          "data": {
            "text/plain": [
              "[42, 54, 254, 52, 234]"
            ]
          },
          "metadata": {
            "tags": []
          },
          "execution_count": 2
        }
      ]
    },
    {
      "cell_type": "code",
      "metadata": {
        "colab": {
          "base_uri": "https://localhost:8080/"
        },
        "id": "pMPtQF6LUSIx",
        "outputId": "cbea9972-fae4-425e-dae0-16e592145fdc"
      },
      "source": [
        "y = [23,42,54,254,52,234]\n",
        "  \n",
        " \n",
        "even_num = [num for num in y if num % 2 == 0] \n",
        "  \n",
        "print(even_num)"
      ],
      "execution_count": 3,
      "outputs": [
        {
          "output_type": "stream",
          "text": [
            "[42, 54, 254, 52, 234]\n"
          ],
          "name": "stdout"
        }
      ]
    },
    {
      "cell_type": "code",
      "metadata": {
        "colab": {
          "base_uri": "https://localhost:8080/"
        },
        "id": "jb6YyXFFUULd",
        "outputId": "0df7a96b-6676-4808-c5b9-7f4349021d8a"
      },
      "source": [
        "lst=[\"x\", \"y\", \"z\"]\n",
        "\n",
        "print([i*j for i in lst for j in range(1, 5)])\n",
        "\n",
        "print([x*i for x in range(1, 5) for i in lst])\n",
        "\n",
        "print([[j] for i in range(2, 5) for j in range(i, i+3)])\n",
        "\n",
        "print([[i+j for i in range(0, 4)] for j in range(2, 6)])\n",
        "\n",
        "print([(j, i) for i in range(1, 4) for j in range(1, 4)])"
      ],
      "execution_count": 4,
      "outputs": [
        {
          "output_type": "stream",
          "text": [
            "['x', 'xx', 'xxx', 'xxxx', 'y', 'yy', 'yyy', 'yyyy', 'z', 'zz', 'zzz', 'zzzz']\n",
            "['x', 'y', 'z', 'xx', 'yy', 'zz', 'xxx', 'yyy', 'zzz', 'xxxx', 'yyyy', 'zzzz']\n",
            "[[2], [3], [4], [3], [4], [5], [4], [5], [6]]\n",
            "[[2, 3, 4, 5], [3, 4, 5, 6], [4, 5, 6, 7], [5, 6, 7, 8]]\n",
            "[(1, 1), (2, 1), (3, 1), (1, 2), (2, 2), (3, 2), (1, 3), (2, 3), (3, 3)]\n"
          ],
          "name": "stdout"
        }
      ]
    },
    {
      "cell_type": "code",
      "metadata": {
        "id": "JHyVwt-IUWIn"
      },
      "source": [
        ""
      ],
      "execution_count": null,
      "outputs": []
    }
  ]
}